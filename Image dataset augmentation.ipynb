{
 "cells": [
  {
   "cell_type": "code",
   "execution_count": 12,
   "metadata": {},
   "outputs": [
    {
     "name": "stdout",
     "output_type": "stream",
     "text": [
      "Requirement already satisfied: tqdm in c:\\users\\rimit\\appdata\\local\\programs\\python\\python310\\lib\\site-packages (4.65.0)\n",
      "Requirement already satisfied: colorama in c:\\users\\rimit\\appdata\\local\\programs\\python\\python310\\lib\\site-packages (from tqdm) (0.4.6)\n",
      "Note: you may need to restart the kernel to use updated packages.\n"
     ]
    },
    {
     "name": "stderr",
     "output_type": "stream",
     "text": [
      "\n",
      "[notice] A new release of pip is available: 23.1.2 -> 23.3.1\n",
      "[notice] To update, run: python.exe -m pip install --upgrade pip\n"
     ]
    }
   ],
   "source": [
    "pip install tqdm\n"
   ]
  },
  {
   "cell_type": "code",
   "execution_count": 17,
   "metadata": {},
   "outputs": [
    {
     "name": "stderr",
     "output_type": "stream",
     "text": [
      "Processing D:\\Egg dataset\\Non-Augmented\\Egg Classification Pictures\\Chicken Country: 100%|██████████| 148/148 [00:55<00:00,  2.69it/s]\n"
     ]
    }
   ],
   "source": [
    "from PIL import Image\n",
    "import os\n",
    "import shutil\n",
    "from tqdm import tqdm\n",
    "\n",
    "def rotate_and_save_image(original_image, output_path_base, filename, index):\n",
    "    rotated_image = original_image.rotate((index + 1) * 90)\n",
    "    rotated_image.save(os.path.join(output_path_base, f\"{filename[:-4]}_{index + 2:04d}.JPG\"))\n",
    "\n",
    "def rotate_and_save_images(input_folder, output_folder):\n",
    "    # Create the output folder if it doesn't exist\n",
    "    os.makedirs(output_folder, exist_ok=True)\n",
    "\n",
    "    # Traverse the directory structure\n",
    "    for root, dirs, files in os.walk(input_folder):\n",
    "        for file in tqdm(files, desc=f\"Processing {root}\"):\n",
    "            if file.lower().endswith(\".jpg\"):\n",
    "                # Generate the input and output paths\n",
    "                input_path = os.path.join(root, file)\n",
    "                output_path_base = os.path.join(output_folder, os.path.relpath(root, input_folder))\n",
    "\n",
    "                # Create subfolders in the output folder\n",
    "                os.makedirs(output_path_base, exist_ok=True)\n",
    "\n",
    "                # Load the image\n",
    "                original_image = Image.open(input_path)\n",
    "\n",
    "                # Save the original image\n",
    "                original_image.save(os.path.join(output_path_base, f\"{file[:-4]}_0001.JPG\"))\n",
    "\n",
    "                # Rotate and save three additional copies\n",
    "                for i in range(3):\n",
    "                    rotate_and_save_image(original_image, output_path_base, file, i)\n",
    "\n",
    "                # Close the original image\n",
    "                original_image.close()\n",
    "\n",
    "def main():\n",
    "    # Use raw strings to avoid escape sequence issues\n",
    "    input_folder = r\"D:\\Egg dataset\\Non-Augmented\\Egg Classification Pictures\\Chicken Country\"\n",
    "    output_folder = r\"D:\\Egg dataset\\Augmented\\Egg Classification Pictures Augmented\\Chicken Country\"\n",
    "\n",
    "    rotate_and_save_images(input_folder, output_folder)\n",
    "\n",
    "if __name__ == \"__main__\":\n",
    "    main()\n"
   ]
  }
 ],
 "metadata": {
  "kernelspec": {
   "display_name": "Python 3",
   "language": "python",
   "name": "python3"
  },
  "language_info": {
   "codemirror_mode": {
    "name": "ipython",
    "version": 3
   },
   "file_extension": ".py",
   "mimetype": "text/x-python",
   "name": "python",
   "nbconvert_exporter": "python",
   "pygments_lexer": "ipython3",
   "version": "3.10.9"
  }
 },
 "nbformat": 4,
 "nbformat_minor": 2
}
